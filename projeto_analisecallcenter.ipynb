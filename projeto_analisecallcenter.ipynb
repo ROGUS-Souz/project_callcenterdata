{
 "cells": [
  {
   "cell_type": "code",
   "execution_count": null,
   "id": "b2272df0",
   "metadata": {},
   "outputs": [],
   "source": [
    "# Objetivo é avaliar as causas de cancelamento de uma empresa de call center\n",
    "# Utilizando a biblioteca pandas para manipulação de dados\n",
    "# Utilizando a biblioteca plotli express para visualização de dados em gráficos\n",
    "import pandas as pd\n",
    "# Carregar o dataset\n",
    "tabela = pd.read_csv('cancelamentos_sample.csv')\n",
    "\n",
    "tabela = tabela.drop(columns='CustomerID')\n",
    "\n",
    "display(tabela)"
   ]
  },
  {
   "cell_type": "code",
   "execution_count": null,
   "id": "4f20d3dc",
   "metadata": {},
   "outputs": [],
   "source": [
    "# passo 2 - Ver os tipos de dados e se há dados faltantes\n",
    "display(tabela.info())"
   ]
  },
  {
   "cell_type": "code",
   "execution_count": null,
   "id": "3b5a1e32",
   "metadata": {},
   "outputs": [],
   "source": [
    "# Passo 3 - Tratar os problemas\n",
    "\n",
    "# Verificar se há dados faltantes ou nulos\n",
    "tabela = tabela.dropna()  # Remove linhas com dados nulos\n",
    "display(tabela.info())\n",
    "\n",
    "# Se tem dado inútil\n",
    "# Foi retirar a coluna CustomerID\n",
    "\n",
    "# Verificar se os tipos de dados estão corretos\n",
    "# Tudo corretinho\n"
   ]
  },
  {
   "cell_type": "code",
   "execution_count": null,
   "id": "3a1fe91a",
   "metadata": {},
   "outputs": [],
   "source": [
    "# Passo 4 - Análise inicial dos dados\n",
    "\n",
    "# Ver a quantidade de cancelamentos total\n",
    "\n",
    "display(tabela['cancelou'].value_counts(normalize=True))\n",
    "\n",
    "# Ver a quantidade de cancelamentos por motivo\n",
    "\n",
    "import plotly.express as px\n",
    "\n",
    "for coluna in tabela.columns:\n",
    "    grafico = px.histogram(tabela, x=coluna, color='cancelou', text_auto=True)\n",
    "    # Mostrar o gráfico\n",
    "    grafico.show()"
   ]
  },
  {
   "cell_type": "code",
   "execution_count": null,
   "id": "9528fe97",
   "metadata": {},
   "outputs": [],
   "source": [
    "# Passo 5 - Análise detalhada dos dados\n",
    "\n",
    "# Analisar as colunas que mais impactam no cancelamento - Hipóteses\n",
    "\n",
    "# Hipótese 1 - Clientes que lingam mais de 4x p o Call Center tendem a cancelar mais\n",
    "\n",
    "# Hipótese 2 - Clientes que tem a assinatura mensal tendem a cancelar mais\n",
    "\n",
    "# Hipótese 3 - Clientes que tem mais de 20 dias de atraso no pagamento tendem a cancelar mais\n",
    "\n",
    "# Passo 6 - Testar as hipóteses - Exlcuir elas da tabela e avaliar a redução de cancelamentos\n",
    "\n",
    "# Excluir a hipótese 1\n",
    "tabela = tabela[tabela['ligacoes_callcenter'] <= 4] # Filtrando a tabela para manter apenas os clientes que ligaram 4 vezes ou menos\n",
    "display(tabela['cancelou'].value_counts(normalize=True))\n",
    "\n",
    "# Excluir a hipótese 2\n",
    "tabela = tabela[tabela['duracao_contrato'] != 'Monthly'] # Filtrando a tabela para retirar os clientes com a assinatura mensal\n",
    "display(tabela['cancelou'].value_counts(normalize=True))\n",
    "\n",
    "# Excluir a hipótese 3\n",
    "tabela = tabela[tabela['dias_atraso'] <= 20] # Filtrando a tabela para manter apenas os clientes com menos de 20 dias de atraso\n",
    "display(tabela['cancelou'].value_counts(normalize=True))"
   ]
  }
 ],
 "metadata": {
  "kernelspec": {
   "display_name": "Python 3",
   "language": "python",
   "name": "python3"
  },
  "language_info": {
   "codemirror_mode": {
    "name": "ipython",
    "version": 3
   },
   "file_extension": ".py",
   "mimetype": "text/x-python",
   "name": "python",
   "nbconvert_exporter": "python",
   "pygments_lexer": "ipython3",
   "version": "3.11.9"
  }
 },
 "nbformat": 4,
 "nbformat_minor": 5
}
